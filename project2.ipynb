{
 "cells": [
  {
   "cell_type": "code",
   "execution_count": 1,
   "metadata": {},
   "outputs": [
    {
     "name": "stdout",
     "output_type": "stream",
     "text": [
      "Requirement already satisfied: pycosat in c:\\users\\albyf\\desktop\\units\\ai\\introduction-to-ai-project2-main\\.venv\\lib\\site-packages (0.6.6)\n",
      "Note: you may need to restart the kernel to use updated packages.\n"
     ]
    },
    {
     "name": "stderr",
     "output_type": "stream",
     "text": [
      "\n",
      "[notice] A new release of pip is available: 23.3.1 -> 23.3.2\n",
      "[notice] To update, run: python.exe -m pip install --upgrade pip\n"
     ]
    }
   ],
   "source": [
    "%pip install pycosat"
   ]
  },
  {
   "cell_type": "code",
   "execution_count": 2,
   "metadata": {},
   "outputs": [
    {
     "name": "stdout",
     "output_type": "stream",
     "text": [
      "[1, -2, -3, -4, 5]\n"
     ]
    }
   ],
   "source": [
    "!python pycosat_test.py"
   ]
  },
  {
   "cell_type": "markdown",
   "metadata": {},
   "source": [
    "# 5.1 Logic Warm-up"
   ]
  },
  {
   "cell_type": "code",
   "execution_count": 3,
   "metadata": {},
   "outputs": [],
   "source": [
    "from logicPlan import *"
   ]
  },
  {
   "cell_type": "code",
   "execution_count": 4,
   "metadata": {},
   "outputs": [
    {
     "data": {
      "text/plain": [
       "{A: False, B: True, C: True}"
      ]
     },
     "execution_count": 4,
     "metadata": {},
     "output_type": "execute_result"
    }
   ],
   "source": [
    "findModel(sentence1())"
   ]
  },
  {
   "cell_type": "code",
   "execution_count": 5,
   "metadata": {},
   "outputs": [
    {
     "data": {
      "text/plain": [
       "False"
      ]
     },
     "execution_count": 5,
     "metadata": {},
     "output_type": "execute_result"
    }
   ],
   "source": [
    "findModel(sentence2())"
   ]
  },
  {
   "cell_type": "code",
   "execution_count": 6,
   "metadata": {},
   "outputs": [
    {
     "data": {
      "text/plain": [
       "{PacmanAlive_0: False,\n",
       " PacmanKilled_0: False,\n",
       " PacmanAlive_1: True,\n",
       " PacmanBorn_0: True}"
      ]
     },
     "execution_count": 6,
     "metadata": {},
     "output_type": "execute_result"
    }
   ],
   "source": [
    "findModel(sentence3())"
   ]
  },
  {
   "cell_type": "markdown",
   "metadata": {},
   "source": [
    "findModelUnderstandingCheck"
   ]
  },
  {
   "cell_type": "code",
   "execution_count": 7,
   "metadata": {},
   "outputs": [
    {
     "data": {
      "text/plain": [
       "{a: True}"
      ]
     },
     "execution_count": 7,
     "metadata": {},
     "output_type": "execute_result"
    }
   ],
   "source": [
    "findModelUnderstandingCheck()"
   ]
  },
  {
   "cell_type": "code",
   "execution_count": 8,
   "metadata": {},
   "outputs": [
    {
     "name": "stdout",
     "output_type": "stream",
     "text": [
      "Starting on 12-28 at 14:37:15\n",
      "\n",
      "Question q1\n",
      "===========\n",
      "\n",
      "*** PASS: test_cases\\q1\\correctSentence1.test\n",
      "*** \tPASS\n",
      "*** PASS: test_cases\\q1\\correctSentence2.test\n",
      "*** \tPASS\n",
      "*** PASS: test_cases\\q1\\correctSentence3.test\n",
      "*** \tPASS\n",
      "*** PASS: test_cases\\q1\\entails.test\n",
      "*** \tPASS\n",
      "*** PASS: test_cases\\q1\\entailsLong.test\n",
      "*** \tPASS\n",
      "*** PASS: test_cases\\q1\\findModelSentence1.test\n",
      "*** \tPASS\n",
      "*** PASS: test_cases\\q1\\findModelSentence2.test\n",
      "*** \tPASS\n",
      "*** PASS: test_cases\\q1\\findModelSentence3.test\n",
      "*** \tPASS\n",
      "*** PASS: test_cases\\q1\\findModelUnderstandingCheck.test\n",
      "*** \tPASS\n",
      "*** PASS: test_cases\\q1\\plTrueInverse.test\n",
      "*** \tPASS\n",
      "\n",
      "### Question q1: 2/2 ###\n",
      "\n",
      "\n",
      "Finished at 14:37:16\n",
      "\n",
      "Provisional grades\n",
      "==================\n",
      "Question q1: 2/2\n",
      "------------------\n",
      "Total: 2/2\n",
      "\n",
      "Your grades are NOT yet registered.  To register your grades, make sure\n",
      "to follow your instructor's guidelines to receive credit on your project.\n",
      "\n"
     ]
    }
   ],
   "source": [
    "!python autograder.py -q q1"
   ]
  },
  {
   "cell_type": "markdown",
   "metadata": {},
   "source": [
    "# 5.2 Logic-workout"
   ]
  },
  {
   "cell_type": "code",
   "execution_count": 9,
   "metadata": {},
   "outputs": [
    {
     "name": "stdout",
     "output_type": "stream",
     "text": [
      "Starting on 12-28 at 14:37:16\n",
      "\n",
      "Question q2\n",
      "===========\n",
      "\n",
      "*** PASS: test_cases\\q2\\atLeastOne.test\n",
      "*** \tPASS\n",
      "*** PASS: test_cases\\q2\\atLeastOneCNF.test\n",
      "*** \tPASS\n",
      "*** PASS: test_cases\\q2\\atLeastOneEff.test\n",
      "*** \tPASS\n",
      "*** PASS: test_cases\\q2\\atMostOne.test\n",
      "*** \tPASS\n",
      "*** PASS: test_cases\\q2\\atMostOneCNF.test\n",
      "*** \tPASS\n",
      "*** PASS: test_cases\\q2\\atMostOneEff.test\n",
      "*** \tPASS\n",
      "*** PASS: test_cases\\q2\\exactlyOne.test\n",
      "*** \tPASS\n",
      "*** PASS: test_cases\\q2\\exactlyOneCNF.test\n",
      "*** \tPASS\n",
      "*** PASS: test_cases\\q2\\exactlyOneEff.test\n",
      "*** \tPASS\n",
      "\n",
      "### Question q2: 2/2 ###\n",
      "\n",
      "\n",
      "Finished at 14:37:16\n",
      "\n",
      "Provisional grades\n",
      "==================\n",
      "Question q2: 2/2\n",
      "------------------\n",
      "Total: 2/2\n",
      "\n",
      "Your grades are NOT yet registered.  To register your grades, make sure\n",
      "to follow your instructor's guidelines to receive credit on your project.\n",
      "\n"
     ]
    }
   ],
   "source": [
    "!python autograder.py -q q2"
   ]
  },
  {
   "cell_type": "markdown",
   "metadata": {},
   "source": [
    "# 5.3 Pacphysics-and-satisfiability"
   ]
  },
  {
   "cell_type": "code",
   "execution_count": 10,
   "metadata": {},
   "outputs": [
    {
     "name": "stdout",
     "output_type": "stream",
     "text": [
      "Starting on 12-28 at 14:37:17\n",
      "\n",
      "Question q3\n",
      "===========\n",
      "\n",
      "*** Testing checkLocationSatisfiability\n",
      "[LogicAgent] using problem type LocMapProblem\n",
      "Ending game\n",
      "Average Score: 0.0\n",
      "Scores:        0.0\n",
      "Win Rate:      0/1 (0.00)\n",
      "Record:        Loss\n",
      "*** PASS: test_cases\\q3\\location_satisfiability1.test\n",
      "*** Testing checkLocationSatisfiability\n",
      "[LogicAgent] using problem type LocMapProblem\n",
      "Ending game\n",
      "Average Score: 0.0\n",
      "Scores:        0.0\n",
      "Win Rate:      0/1 (0.00)\n",
      "Record:        Loss\n",
      "*** PASS: test_cases\\q3\\location_satisfiability2.test\n",
      "*** Testing pacphysicsAxioms\n",
      "*** PASS: test_cases\\q3\\pacphysics1.test\n",
      "*** Testing pacphysicsAxioms\n",
      "*** PASS: test_cases\\q3\\pacphysics2.test\n",
      "*** PASS: test_cases\\q3\\pacphysics_transition.test\n",
      "*** \tPASS\n",
      "\n",
      "### Question q3: 4/4 ###\n",
      "\n",
      "\n",
      "Finished at 14:37:17\n",
      "\n",
      "Provisional grades\n",
      "==================\n",
      "Question q3: 4/4\n",
      "------------------\n",
      "Total: 4/4\n",
      "\n",
      "Your grades are NOT yet registered.  To register your grades, make sure\n",
      "to follow your instructor's guidelines to receive credit on your project.\n",
      "\n"
     ]
    }
   ],
   "source": [
    "!python autograder.py -q q3"
   ]
  },
  {
   "cell_type": "markdown",
   "metadata": {},
   "source": [
    "# 5.4 Path Planning with Logic"
   ]
  },
  {
   "cell_type": "code",
   "execution_count": 11,
   "metadata": {},
   "outputs": [
    {
     "name": "stdout",
     "output_type": "stream",
     "text": [
      "[LogicAgent] using problem type PositionPlanningProblem\n",
      "rendering walls beforehand\n",
      "t = 0\n",
      "t = 1\n",
      "t = 2\n",
      "Path found with total cost of 2 in 0.0 seconds\n",
      "Nodes expanded: 0\n",
      "Pacman emerges victorious! Score: 508\n",
      "Average Score: 508.0\n",
      "Scores:        508.0\n",
      "Win Rate:      1/1 (1.00)\n",
      "Record:        Win\n"
     ]
    }
   ],
   "source": [
    "!python pacman.py -l maze2x2 -p LogicAgent -a fn=plp"
   ]
  },
  {
   "cell_type": "code",
   "execution_count": 12,
   "metadata": {},
   "outputs": [
    {
     "name": "stdout",
     "output_type": "stream",
     "text": [
      "[LogicAgent] using problem type PositionPlanningProblem\n",
      "rendering walls beforehand\n",
      "t = 0\n",
      "t = 1\n",
      "t = 2\n",
      "t = 3\n",
      "t = 4\n",
      "t = 5\n",
      "t = 6\n",
      "t = 7\n",
      "t = 8\n",
      "Path found with total cost of 8 in 0.7 seconds\n",
      "Nodes expanded: 0\n",
      "Pacman emerges victorious! Score: 502\n",
      "Average Score: 502.0\n",
      "Scores:        502.0\n",
      "Win Rate:      1/1 (1.00)\n",
      "Record:        Win\n"
     ]
    }
   ],
   "source": [
    "!python pacman.py -l tinyMaze -p LogicAgent -a fn=plp"
   ]
  },
  {
   "cell_type": "code",
   "execution_count": 13,
   "metadata": {},
   "outputs": [
    {
     "name": "stdout",
     "output_type": "stream",
     "text": [
      "Starting on 12-28 at 14:37:22\n",
      "\n",
      "Question q4\n",
      "===========\n",
      "\n",
      "[LogicAgent] using problem type PositionPlanningProblem\n",
      "t = 0\n",
      "t = 1\n",
      "t = 2\n",
      "Path found with total cost of 2 in 0.0 seconds\n",
      "Nodes expanded: 0\n",
      "Pacman emerges victorious! Score: 508\n",
      "Average Score: 508.0\n",
      "Scores:        508.0\n",
      "Win Rate:      1/1 (1.00)\n",
      "Record:        Win\n",
      "*** PASS: test_cases\\q4\\positionLogicPlan1.test\n",
      "*** \tpacman layout:\t\tmaze2x2\n",
      "*** \tsolution score:\t\t508\n",
      "*** \tsolution path:\t\tWest South\n",
      "[LogicAgent] using problem type PositionPlanningProblem\n",
      "t = 0\n",
      "t = 1\n",
      "t = 2\n",
      "t = 3\n",
      "t = 4\n",
      "t = 5\n",
      "t = 6\n",
      "t = 7\n",
      "t = 8\n",
      "Path found with total cost of 8 in 0.6 seconds\n",
      "Nodes expanded: 0\n",
      "Pacman emerges victorious! Score: 502\n",
      "Average Score: 502.0\n",
      "Scores:        502.0\n",
      "Win Rate:      1/1 (1.00)\n",
      "Record:        Win\n",
      "*** PASS: test_cases\\q4\\positionLogicPlan2.test\n",
      "*** \tpacman layout:\t\ttinyMaze\n",
      "*** \tsolution score:\t\t502\n",
      "*** \tsolution path:\t\tSouth South West South West West South West\n",
      "[LogicAgent] using problem type PositionPlanningProblem\n",
      "t = 0\n",
      "t = 1\n",
      "t = 2\n",
      "t = 3\n",
      "t = 4\n",
      "t = 5\n",
      "t = 6\n",
      "t = 7\n",
      "t = 8\n",
      "t = 9\n",
      "t = 10\n",
      "t = 11\n",
      "t = 12\n",
      "t = 13\n",
      "t = 14\n",
      "t = 15\n",
      "t = 16\n",
      "t = 17\n",
      "t = 18\n",
      "t = 19\n",
      "Path found with total cost of 19 in 90.2 seconds\n",
      "Nodes expanded: 0\n",
      "Pacman emerges victorious! Score: 491\n",
      "Average Score: 491.0\n",
      "Scores:        491.0\n",
      "Win Rate:      1/1 (1.00)\n",
      "Record:        Win\n",
      "*** PASS: test_cases\\q4\\positionLogicPlan3.test\n",
      "*** \tpacman layout:\t\tsmallMaze\n",
      "*** \tsolution score:\t\t491\n",
      "*** \tsolution path:\t\tEast East South South West South South West West South West West West West West West West West West\n",
      "\n",
      "### Question q4: 3/3 ###\n",
      "\n",
      "\n",
      "Finished at 14:38:53\n",
      "\n",
      "Provisional grades\n",
      "==================\n",
      "Question q4: 3/3\n",
      "------------------\n",
      "Total: 3/3\n",
      "\n",
      "Your grades are NOT yet registered.  To register your grades, make sure\n",
      "to follow your instructor's guidelines to receive credit on your project.\n",
      "\n"
     ]
    }
   ],
   "source": [
    "!python autograder.py -q q4"
   ]
  },
  {
   "cell_type": "markdown",
   "metadata": {},
   "source": [
    "# 5.5 Eating All the Food"
   ]
  },
  {
   "cell_type": "code",
   "execution_count": 14,
   "metadata": {},
   "outputs": [
    {
     "name": "stdout",
     "output_type": "stream",
     "text": [
      "[LogicAgent] using problem type FoodPlanningProblem\n",
      "rendering walls beforehand\n",
      "t = 0\n",
      "t = 1\n",
      "t = 2\n",
      "t = 3\n",
      "t = 4\n",
      "t = 5\n",
      "t = 6\n",
      "t = 7\n",
      "t = 8\n",
      "Path found with total cost of 8 in 0.6 seconds\n",
      "Nodes expanded: 0\n",
      "Pacman emerges victorious! Score: 513\n",
      "Average Score: 513.0\n",
      "Scores:        513.0\n",
      "Win Rate:      1/1 (1.00)\n",
      "Record:        Win\n"
     ]
    }
   ],
   "source": [
    "!python pacman.py -l testSearch -p LogicAgent -a fn=flp,prob=FoodPlanningProblem"
   ]
  },
  {
   "cell_type": "code",
   "execution_count": 15,
   "metadata": {},
   "outputs": [
    {
     "name": "stdout",
     "output_type": "stream",
     "text": [
      "Starting on 12-28 at 14:38:57\n",
      "\n",
      "Question q5\n",
      "===========\n",
      "\n",
      "[LogicAgent] using problem type FoodPlanningProblem\n",
      "t = 0\n",
      "t = 1\n",
      "t = 2\n",
      "t = 3\n",
      "t = 4\n",
      "t = 5\n",
      "t = 6\n",
      "t = 7\n",
      "t = 8\n",
      "Path found with total cost of 8 in 0.9 seconds\n",
      "Nodes expanded: 0\n",
      "Pacman emerges victorious! Score: 513\n",
      "Average Score: 513.0\n",
      "Scores:        513.0\n",
      "Win Rate:      1/1 (1.00)\n",
      "Record:        Win\n",
      "*** PASS: test_cases\\q5\\foodLogicPlan1.test\n",
      "*** \tpacman layout:\t\ttestSearch\n",
      "*** \tsolution score:\t\t513\n",
      "*** \tsolution path:\t\tWest East East South South West West East\n",
      "[LogicAgent] using problem type FoodPlanningProblem\n",
      "t = 0\n",
      "t = 1\n",
      "t = 2\n",
      "t = 3\n",
      "t = 4\n",
      "t = 5\n",
      "t = 6\n",
      "t = 7\n",
      "t = 8\n",
      "t = 9\n",
      "t = 10\n",
      "t = 11\n",
      "t = 12\n",
      "t = 13\n",
      "t = 14\n",
      "t = 15\n",
      "t = 16\n",
      "t = 17\n",
      "t = 18\n",
      "t = 19\n",
      "t = 20\n",
      "t = 21\n",
      "t = 22\n",
      "t = 23\n",
      "t = 24\n",
      "t = 25\n",
      "t = 26\n",
      "t = 27\n",
      "t = 28\n",
      "Path found with total cost of 28 in 25.5 seconds\n",
      "Nodes expanded: 0\n",
      "Pacman emerges victorious! Score: 573\n",
      "Average Score: 573.0\n",
      "Scores:        573.0\n",
      "Win Rate:      1/1 (1.00)\n",
      "Record:        Win\n",
      "*** PASS: test_cases\\q5\\foodLogicPlan2.test\n",
      "*** \tpacman layout:\t\ttinySearch\n",
      "*** \tsolution score:\t\t573\n",
      "*** \tsolution path:\t\tSouth South West East East East East North North North North West West West West West West East East East South South West West West South South West\n",
      "\n",
      "### Question q5: 3/3 ###\n",
      "\n",
      "\n",
      "Finished at 14:39:23\n",
      "\n",
      "Provisional grades\n",
      "==================\n",
      "Question q5: 3/3\n",
      "------------------\n",
      "Total: 3/3\n",
      "\n",
      "Your grades are NOT yet registered.  To register your grades, make sure\n",
      "to follow your instructor's guidelines to receive credit on your project.\n",
      "\n"
     ]
    }
   ],
   "source": [
    "!python autograder.py -q q5"
   ]
  },
  {
   "cell_type": "markdown",
   "metadata": {},
   "source": [
    "# 5.6 Localization"
   ]
  },
  {
   "cell_type": "code",
   "execution_count": 16,
   "metadata": {},
   "outputs": [
    {
     "name": "stdout",
     "output_type": "stream",
     "text": [
      "Starting on 12-28 at 14:39:23\n",
      "\n",
      "Question q6\n",
      "===========\n",
      "\n",
      "[LogicAgent] using problem type LocalizationProblem\n",
      "rendering walls beforehand\n",
      "*** PASS: test_cases\\q6\\localizationLogic1.test\n",
      "[LogicAgent] using problem type LocalizationProblem\n",
      "rendering walls beforehand\n",
      "*** PASS: test_cases\\q6\\localizationLogic2.test\n",
      "\n",
      "### Question q6: 4/4 ###\n",
      "\n",
      "\n",
      "Finished at 14:39:44\n",
      "\n",
      "Provisional grades\n",
      "==================\n",
      "Question q6: 4/4\n",
      "------------------\n",
      "Total: 4/4\n",
      "\n",
      "Your grades are NOT yet registered.  To register your grades, make sure\n",
      "to follow your instructor's guidelines to receive credit on your project.\n",
      "\n"
     ]
    }
   ],
   "source": [
    "!python autograder.py -q q6"
   ]
  },
  {
   "cell_type": "markdown",
   "metadata": {},
   "source": [
    "# 5.7 Mapping"
   ]
  },
  {
   "cell_type": "code",
   "execution_count": 17,
   "metadata": {},
   "outputs": [
    {
     "name": "stdout",
     "output_type": "stream",
     "text": [
      "Starting on 12-28 at 14:39:44\n",
      "\n",
      "Question q7\n",
      "===========\n",
      "\n",
      "[LogicAgent] using problem type MappingProblem\n",
      "*** PASS: test_cases\\q7\\mappingLogic1.test\n",
      "[LogicAgent] using problem type MappingProblem\n",
      "*** PASS: test_cases\\q7\\mappingLogic2.test\n",
      "\n",
      "### Question q7: 3/3 ###\n",
      "\n",
      "\n",
      "Finished at 14:40:24\n",
      "\n",
      "Provisional grades\n",
      "==================\n",
      "Question q7: 3/3\n",
      "------------------\n",
      "Total: 3/3\n",
      "\n",
      "Your grades are NOT yet registered.  To register your grades, make sure\n",
      "to follow your instructor's guidelines to receive credit on your project.\n",
      "\n"
     ]
    }
   ],
   "source": [
    "!python autograder.py -q q7"
   ]
  },
  {
   "cell_type": "markdown",
   "metadata": {},
   "source": [
    "# 5.8 SLAM"
   ]
  },
  {
   "cell_type": "code",
   "execution_count": 18,
   "metadata": {},
   "outputs": [
    {
     "name": "stdout",
     "output_type": "stream",
     "text": [
      "Starting on 12-28 at 14:40:24\n",
      "\n",
      "Question q8\n",
      "===========\n",
      "\n",
      "[LogicAgent] using problem type SLAMProblem\n",
      "*** PASS: test_cases\\q8\\SLAMLogic1.test\n",
      "[LogicAgent] using problem type SLAMProblem\n",
      "*** PASS: test_cases\\q8\\SLAMLogic2.test\n",
      "\n",
      "### Question q8: 4/4 ###\n",
      "\n",
      "\n",
      "Finished at 14:49:07\n",
      "\n",
      "Provisional grades\n",
      "==================\n",
      "Question q8: 4/4\n",
      "------------------\n",
      "Total: 4/4\n",
      "\n",
      "Your grades are NOT yet registered.  To register your grades, make sure\n",
      "to follow your instructor's guidelines to receive credit on your project.\n",
      "\n"
     ]
    }
   ],
   "source": [
    "!python autograder.py -q q8"
   ]
  }
 ],
 "metadata": {
  "kernelspec": {
   "display_name": ".venv",
   "language": "python",
   "name": "python3"
  },
  "language_info": {
   "codemirror_mode": {
    "name": "ipython",
    "version": 3
   },
   "file_extension": ".py",
   "mimetype": "text/x-python",
   "name": "python",
   "nbconvert_exporter": "python",
   "pygments_lexer": "ipython3",
   "version": "3.9.0"
  }
 },
 "nbformat": 4,
 "nbformat_minor": 2
}
